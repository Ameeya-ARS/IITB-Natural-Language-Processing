{
  "cells": [
    {
      "cell_type": "code",
      "execution_count": null,
      "metadata": {
        "colab": {
          "base_uri": "https://localhost:8080/"
        },
        "id": "QhaC3aoTEdq7",
        "outputId": "e198eb24-bf6f-408c-971f-1a6247e6f19b"
      },
      "outputs": [
        {
          "output_type": "stream",
          "name": "stdout",
          "text": [
            "Mounted at /content/gdrive\n"
          ]
        }
      ],
      "source": [
        "from google.colab import drive\n",
        "drive.mount('/content/gdrive')"
      ]
    },
    {
      "cell_type": "code",
      "execution_count": null,
      "metadata": {
        "id": "-674rfrg3GzI"
      },
      "outputs": [],
      "source": [
        "import nltk\n",
        "import numpy as np\n",
        "import math\n",
        "from collections import Counter\n",
        "from collections import defaultdict\n",
        "from sklearn.model_selection import KFold\n",
        "import matplotlib.pyplot as plt\n",
        "from sklearn.metrics import accuracy_score\n",
        "from sklearn.metrics import confusion_matrix\n",
        "from sklearn.metrics import precision_score\n",
        "from sklearn.metrics import recall_score\n",
        "from sklearn.metrics import fbeta_score\n",
        "from sklearn.metrics import classification_report\n",
        "from gensim.models import KeyedVectors\n",
        "from sklearn.metrics.pairwise import cosine_similarity"
      ]
    },
    {
      "cell_type": "code",
      "execution_count": null,
      "metadata": {
        "colab": {
          "base_uri": "https://localhost:8080/"
        },
        "id": "ophG2kjL3GzK",
        "outputId": "fdb6f8c1-8e2d-4ad8-9504-407aa8b421e2"
      },
      "outputs": [
        {
          "output_type": "stream",
          "name": "stderr",
          "text": [
            "[nltk_data] Downloading package brown to /root/nltk_data...\n",
            "[nltk_data]   Unzipping corpora/brown.zip.\n",
            "[nltk_data] Downloading package universal_tagset to /root/nltk_data...\n",
            "[nltk_data]   Unzipping taggers/universal_tagset.zip.\n"
          ]
        },
        {
          "output_type": "execute_result",
          "data": {
            "text/plain": [
              "True"
            ]
          },
          "metadata": {},
          "execution_count": 3
        }
      ],
      "source": [
        "nltk.download('brown')\n",
        "nltk.download('universal_tagset')"
      ]
    },
    {
      "cell_type": "code",
      "execution_count": null,
      "metadata": {
        "id": "HQtQPioA3GzL"
      },
      "outputs": [],
      "source": [
        "path = 'gdrive/MyDrive/CS626/Assignment_2/GoogleNews-vectors-negative300.bin'\n",
        "word2vec= KeyedVectors.load_word2vec_format(path, binary=True)"
      ]
    },
    {
      "cell_type": "code",
      "execution_count": null,
      "metadata": {
        "id": "VTY_6l3v3GzL"
      },
      "outputs": [],
      "source": [
        "start_token = '^'\n",
        "end_token = '$'\n",
        "tagged_sentences = nltk.corpus.brown.tagged_sents(tagset='universal')"
      ]
    },
    {
      "cell_type": "code",
      "execution_count": null,
      "metadata": {
        "id": "1vgxsTjE3GzL"
      },
      "outputs": [],
      "source": [
        "result=[]\n",
        "for i in range(len(tagged_sentences)):\n",
        "    temp=[]\n",
        "    sentence = tagged_sentences[i]\n",
        "    temp.append((start_token,start_token))\n",
        "    for word,tag in sentence:\n",
        "        temp.append((word.lower(),tag))\n",
        "    temp.append((end_token,end_token))\n",
        "    result.append(temp)\n",
        "\n",
        "tagged_sentences = result"
      ]
    },
    {
      "cell_type": "code",
      "execution_count": null,
      "metadata": {
        "id": "s6aluVgG3GzM"
      },
      "outputs": [],
      "source": [
        "def vec_of_tags(Sentences):\n",
        "    tag_value = {'.':0, 'ADJ':1, 'ADP':2, 'ADV':3, 'CONJ':4, 'DET':5, 'NOUN':6, 'NUM':7, 'PRON':8, 'PRT':9, 'VERB':10, 'X':11, '^':12, '$':13}\n",
        "    vec_of_tags = np.zeros((14,300))\n",
        "    for sentence in Sentences:\n",
        "        for word,tag in sentence:\n",
        "            try:\n",
        "                vec_of_tags[tag_value[tag]] += word2vec[word]\n",
        "            except KeyError:\n",
        "                pass\n",
        "    return vec_of_tags"
      ]
    },
    {
      "cell_type": "code",
      "execution_count": null,
      "metadata": {
        "id": "MP4BToAj3GzM"
      },
      "outputs": [],
      "source": [
        "# for Checking the vec_of_tags\n",
        "# checking_word = word2vec['ram']\n",
        "# tag_value = {'.':0, 'ADJ':1, 'ADP':2, 'ADV':3, 'CONJ':4, 'DET':5, 'NOUN':6, 'NUM':7, 'PRON':8, 'PRT':9, 'VERB':10, 'X':11, '^':12, '$':13}\n",
        "# vec = vec_of_tags(tagged_sentences)\n",
        "# print(cosine_similarity([checking_word,vec[tag_value['NOUN']]])[0][1])"
      ]
    },
    {
      "cell_type": "code",
      "execution_count": null,
      "metadata": {
        "id": "vimbXX4M3GzM"
      },
      "outputs": [],
      "source": [
        "def Training(sentences):\n",
        "    list_of_all_tuples = []\n",
        "    for sentence in sentences:\n",
        "        for word,tag in sentence:\n",
        "            list_of_all_tuples.append((word,tag))\n",
        "    POS_tag_counts = Counter(tag for word,tag in list_of_all_tuples)\n",
        "    word_pos_tags = defaultdict(Counter)\n",
        "    for word,pos_tag in list_of_all_tuples:\n",
        "        word_pos_tags[word][pos_tag]+=1\n",
        "    Tag_transition_count = defaultdict(Counter)\n",
        "    for sentence in sentences:\n",
        "        for i in range(len(sentence)-1):\n",
        "            Tag_transition_count[sentence[i][1]][sentence[i+1][1]]+=1\n",
        "\n",
        "    return POS_tag_counts,word_pos_tags,Tag_transition_count"
      ]
    },
    {
      "cell_type": "code",
      "execution_count": null,
      "metadata": {
        "id": "SzKEg9wC3GzM"
      },
      "outputs": [],
      "source": [
        "#probability of tag2 given tag1\n",
        "def transition_probability(tag1,tag2,POS_tag_counts,Tag_transition_count):\n",
        "    tag1_tag2 = Tag_transition_count[tag1][tag2]\n",
        "    tag1_total = POS_tag_counts[tag1]\n",
        "    res = (tag1_tag2) / (tag1_total) \n",
        "    if(res==0):\n",
        "        res = 10**-9\n",
        "    return res"
      ]
    },
    {
      "cell_type": "code",
      "execution_count": null,
      "metadata": {
        "id": "31nN4BJa3GzN"
      },
      "outputs": [],
      "source": [
        "def lexical_probability(word,tag,POS_tag_counts,word_pos_tags,vec):\n",
        "    tag_value = {'.':0, 'ADJ':1, 'ADP':2, 'ADV':3, 'CONJ':4, 'DET':5, 'NOUN':6, 'NUM':7, 'PRON':8, 'PRT':9, 'VERB':10, 'X':11, '^':12, '$':13}\n",
        "    word_total = sum(word_pos_tags[word].values())\n",
        "    \n",
        "    word_tag = word_pos_tags[word][tag]\n",
        "    tag_total = POS_tag_counts[tag]\n",
        "    \n",
        "    if word_total==0:\n",
        "        try:\n",
        "            checking_word = word2vec[word]\n",
        "            res = math.exp(cosine_similarity([checking_word,vec[tag_value[tag]]])[0][1]-1)\n",
        "        except KeyError:\n",
        "            res = 10**-9\n",
        "    else:\n",
        "        res = word_tag/tag_total\n",
        "    if res<=0:\n",
        "        res = 10**-9\n",
        "    return res"
      ]
    },
    {
      "cell_type": "code",
      "execution_count": null,
      "metadata": {
        "id": "pbc6nGHc3GzN"
      },
      "outputs": [],
      "source": [
        "def Viterbi_Algorithm(untagged_sentence,POS_tag_counts,word_pos_tags,Tag_transition_count,vec):\n",
        "    n = len(untagged_sentence)\n",
        "    prev = defaultdict(Counter)\n",
        "    curr = defaultdict(Counter)\n",
        "    parent = defaultdict(Counter)\n",
        "    for tag in POS_tag_counts:\n",
        "        prev[tag] = 0.0\n",
        "    prev[start_token]=0.0\n",
        "    parent[0][start_token] = 0\n",
        "\n",
        "    for i in range(1,n-1):\n",
        "        word = untagged_sentence[i]\n",
        "        for tag in POS_tag_counts:\n",
        "            curr[tag] = 1.0\n",
        "            for prev_tag in POS_tag_counts:\n",
        "                temp = prev[prev_tag] + math.log(lexical_probability(word,tag,POS_tag_counts,word_pos_tags,vec)) + math.log(transition_probability(prev_tag,tag,POS_tag_counts,Tag_transition_count))\n",
        "                if curr[tag]==1.0 or temp>curr[tag]:\n",
        "                    curr[tag] = temp\n",
        "                    parent[i][tag] = prev_tag\n",
        "        for tag in POS_tag_counts:\n",
        "            prev[tag] = curr[tag]\n",
        "\n",
        "    final_tags = ['$' for i in range(n)]\n",
        "    for tag in POS_tag_counts:\n",
        "        if curr[tag] > curr[final_tags[n-2]]:\n",
        "            final_tags[n-2] = tag\n",
        "    for i in range(n-3,0,-1):\n",
        "        final_tags[i] = parent[i+1][final_tags[i+1]]\n",
        "    final_tags[0] = start_token\n",
        "    return final_tags\n"
      ]
    },
    {
      "cell_type": "code",
      "execution_count": null,
      "metadata": {
        "colab": {
          "base_uri": "https://localhost:8080/"
        },
        "id": "yaS5PqDT3GzN",
        "outputId": "d10000f6-2ebc-42af-a823-921fb2a33577"
      },
      "outputs": [
        {
          "output_type": "stream",
          "name": "stdout",
          "text": [
            "Accuracy for Fold 1 : 0.9606205712663113\n",
            "Accuracy for Fold 2 : 0.9607147016827929\n",
            "Accuracy for Fold 3 : 0.9603002860891824\n",
            "Accuracy for Fold 4 : 0.9610214476520962\n",
            "Accuracy for Fold 5 : 0.9600954876474728\n"
          ]
        }
      ],
      "source": [
        "Last_POS_tag_counts,Last_word_pos_tags,Last_Tag_transition_count = defaultdict(Counter), defaultdict(Counter), defaultdict(Counter)\n",
        "kfold = KFold(n_splits=5, shuffle=True, random_state=1)\n",
        "tagged_sentences = np.array(tagged_sentences,dtype='object')\n",
        "y_pred_list = []\n",
        "y_true_list = []\n",
        "final_vec=0\n",
        "for fold, (train, test) in enumerate(kfold.split(tagged_sentences)):\n",
        "    train_sentences = tagged_sentences[train]\n",
        "    test_sentences = tagged_sentences[test]\n",
        "    POS_tag_counts,word_pos_tags,Tag_transition_count = Training(train_sentences)\n",
        "    vec = vec_of_tags(train_sentences)\n",
        "    if(fold==3):\n",
        "        Last_POS_tag_counts = POS_tag_counts\n",
        "        Last_word_pos_tags = word_pos_tags\n",
        "        Last_Tag_transition_count = Tag_transition_count\n",
        "        final_vec = vec\n",
        "    y_pred = []\n",
        "    y_true = []\n",
        "\n",
        "    for sentence in test_sentences:\n",
        "        untagged_sentence = [word for word,tag in sentence]\n",
        "        prediction = Viterbi_Algorithm(untagged_sentence,POS_tag_counts,word_pos_tags,Tag_transition_count,vec)\n",
        "        for i in range(1,len(prediction)-1):\n",
        "            y_pred.append(prediction[i])\n",
        "            y_true.append(sentence[i][1])\n",
        "\n",
        "    y_pred_list.append(np.array(y_pred))\n",
        "    y_true_list.append(np.array(y_true))\n",
        "    accuracy = accuracy_score(y_true_list[-1],y_pred_list[-1],normalize=True)\n",
        "    print(f'Accuracy for Fold {fold + 1} : {accuracy}')\n"
      ]
    },
    {
      "cell_type": "code",
      "execution_count": null,
      "metadata": {
        "colab": {
          "base_uri": "https://localhost:8080/"
        },
        "id": "3qXP9tN_3GzO",
        "outputId": "e706a0f2-8ec1-4202-c5bd-b8bba501f247"
      },
      "outputs": [
        {
          "output_type": "stream",
          "name": "stdout",
          "text": [
            "Precision : 0.9604942731149146\n",
            "Recall : 0.960550498867571\n",
            "F0.5 Score : 0.960467122841927\n",
            "F1 Score : 0.9604629662664248\n",
            "F2 Score : 0.9605015364677237\n"
          ]
        }
      ],
      "source": [
        "f0_5_score=0\n",
        "f1score=0\n",
        "f2score=0\n",
        "precision = 0\n",
        "recall = 0\n",
        "for i in range(5):\n",
        "    f0_5_score+=fbeta_score(y_true_list[i],y_pred_list[i],beta=0.5,average='weighted',zero_division=0)\n",
        "    f1score+=fbeta_score(y_true_list[i],y_pred_list[i],beta=1,average='weighted',zero_division=0)\n",
        "    f2score+=fbeta_score(y_true_list[i],y_pred_list[i],beta=2,average='weighted',zero_division=0)\n",
        "    precision+=precision_score(y_true_list[i],y_pred_list[i],average='weighted',zero_division=0)\n",
        "    recall+=recall_score(y_true_list[i],y_pred_list[i],average='weighted',zero_division=0)\n",
        "f0_5_score = f0_5_score/5.0\n",
        "f1score = f1score/5.0\n",
        "f2score = f2score/5.0\n",
        "precision = precision/5.0\n",
        "recall = recall/5.0\n",
        "\n",
        "print(f'Precision : {precision}')\n",
        "print(f'Recall : {recall}')\n",
        "print(f'F0.5 Score : {f0_5_score}')\n",
        "print(f'F1 Score : {f1score}')\n",
        "print(f'F2 Score : {f2score}')"
      ]
    },
    {
      "cell_type": "code",
      "execution_count": null,
      "metadata": {
        "id": "f0ETHc933GzO"
      },
      "outputs": [],
      "source": [
        "def classification_report_function(y_true_list,y_pred_list):\n",
        "    classes = ['.', 'ADJ', 'ADP', 'ADV', 'CONJ', 'DET', 'NOUN', 'NUM', 'PRON', 'PRT', 'VERB', 'X']\n",
        "    report_final = np.zeros((12,3))\n",
        "    support = 0\n",
        "    for i in range(5):\n",
        "        report = np.zeros((12,3))\n",
        "        cr = classification_report(y_true_list[i],y_pred_list[i],labels=classes,zero_division=0)\n",
        "        cr = cr.replace('macro avg', 'macro')\n",
        "        cr = cr.replace('micro avg', 'micro')\n",
        "        cr = cr.replace('weighted avg', 'weighted')\n",
        "        cr = cr.replace('\\n\\n', '\\n')\n",
        "        lines = cr.split('\\n')\n",
        "        mat , sup = [], []\n",
        "        for k in range(12):\n",
        "            line = lines[k+1]\n",
        "            a = line.strip().split()\n",
        "            report[k][0] = float(a[1])\n",
        "            report[k][1] = float(a[2])\n",
        "            report[k][2] = float(a[3])\n",
        "            sup.append(float(a[-1]))\n",
        "        sup = np.array(sup)\n",
        "        if(i==0):\n",
        "            report_final = report\n",
        "            support = sup\n",
        "        else:\n",
        "            report_final+=report\n",
        "            support+=sup\n",
        "    report_final = report_final/5.0\n",
        "    support = support/5.0\n",
        "    xticklabels = ['Precision', 'Recall', 'F1-Score']\n",
        "    yticklabels = ['{0}[{1}]'.format(classes[i], sup_i) for i, sup_i in enumerate(support)]\n",
        "    plt.clf()\n",
        "    fig, ax = plt.subplots(figsize=(18,10))\n",
        "    ax.xaxis.set_ticks_position('top')\n",
        "    ax.xaxis.set_tick_params(labelsize=15)\n",
        "    ax.yaxis.set_tick_params(labelsize=15)\n",
        "    plt.imshow(report_final, aspect='auto')\n",
        "    plt.colorbar()\n",
        "    plt.xticks(np.arange(3), xticklabels)\n",
        "    plt.yticks(np.arange(len(classes)), yticklabels)\n",
        "    for i in range(report.shape[0]):\n",
        "        for j in range(report.shape[1]):\n",
        "            plt.text(j, i, format(report[i, j], '.2f'), horizontalalignment=\"center\", verticalalignment=\"center\" ,fontsize=14)"
      ]
    },
    {
      "cell_type": "code",
      "execution_count": null,
      "metadata": {
        "id": "w-J2YUXo3GzO"
      },
      "outputs": [],
      "source": [
        "def classification_report_function1(y_true_list,y_pred_list):\n",
        "    tagset = ['.', 'ADJ', 'ADP', 'ADV', 'CONJ', 'DET', 'NOUN', 'NUM', 'PRON', 'PRT', 'VERB', 'X']\n",
        "    report = 0\n",
        "    support = 0\n",
        "    check = 0\n",
        "    for i in range(5):\n",
        "        cr = classification_report(y_true_list[i],y_pred_list[i],labels=tagset,zero_division=0)\n",
        "        cr = cr.replace('macro avg', 'macro')\n",
        "        cr = cr.replace('micro avg', 'micro')\n",
        "        cr = cr.replace('weighted avg', 'weighted')\n",
        "        cr = cr.replace('\\n\\n', '\\n')\n",
        "        lines = cr.split('\\n')\n",
        "        classes , mat , sup = [], [], []\n",
        "        for line in lines[1:]:\n",
        "            a = line.strip().split()\n",
        "            if len(a) < 2:\n",
        "                continue\n",
        "            temp = [float(x) for x in a[1: len(a) - 1]]\n",
        "            sup.append(int(a[-1]))\n",
        "            classes.append(a[0])\n",
        "            mat.append(temp)\n",
        "        mat = np.array(mat)\n",
        "        sup = np.array(sup)\n",
        "        if(i==0):\n",
        "            report = mat\n",
        "            support = sup\n",
        "        else:\n",
        "            report+=mat\n",
        "            support+=sup\n",
        "    report = report/5.0\n",
        "    support = support/5.0\n",
        "    xticklabels = ['Precision', 'Recall', 'F1-Score']\n",
        "    yticklabels = ['{0}[{1}]'.format(classes[i], sup_i) for i, sup_i in enumerate(support)]\n",
        "    plt.clf()\n",
        "    fig, ax = plt.subplots(figsize=(18,10))\n",
        "    ax.xaxis.set_ticks_position('top')\n",
        "    ax.xaxis.set_tick_params(labelsize=15)\n",
        "    ax.yaxis.set_tick_params(labelsize=15)\n",
        "    plt.imshow(report, aspect='auto')\n",
        "    plt.colorbar()\n",
        "    plt.xticks(np.arange(3), xticklabels)\n",
        "    plt.yticks(np.arange(len(classes)), yticklabels)\n",
        "    for i in range(report.shape[0]):\n",
        "        for j in range(report.shape[1]):\n",
        "            plt.text(j, i, format(report[i, j], '.2f'), horizontalalignment=\"center\", verticalalignment=\"center\" ,fontsize=14)\n",
        "    plt.savefig('classification_report.png')\n"
      ]
    },
    {
      "cell_type": "code",
      "execution_count": null,
      "metadata": {
        "id": "7uZ2X-zF3GzP"
      },
      "outputs": [],
      "source": [
        "def confusion_matrix_function(y_true_list,y_pred_list):\n",
        "    list_of_tags = ['.', 'ADJ', 'ADP', 'ADV', 'CONJ', 'DET', 'NOUN', 'NUM', 'PRON', 'PRT', 'VERB', 'X']\n",
        "    count = 0\n",
        "    mat = 0\n",
        "    for y_true,y_pred in zip(y_true_list,y_pred_list):\n",
        "        cm = confusion_matrix(y_true,y_pred,labels=list_of_tags)\n",
        "        count += 1\n",
        "        if(count==1):\n",
        "            mat = cm\n",
        "        else:\n",
        "            mat += cm\n",
        "\n",
        "    mat = mat.astype('float')\n",
        "    mat = mat/count\n",
        "    mat_confusion_matrix = mat/np.sum(mat, axis=1, keepdims=True) #With Normalization\n",
        "    #mat_confusion_matrix = mat  #Without Normalization\n",
        "    plt.clf()\n",
        "    fig, ax = plt.subplots(figsize=(12,10))\n",
        "    tick_marks = np.arange(len(list_of_tags))\n",
        "    plt.xticks(tick_marks, list_of_tags)\n",
        "    plt.yticks(tick_marks, list_of_tags)\n",
        "    for i in range(mat_confusion_matrix.shape[0]):\n",
        "            for j in range(mat_confusion_matrix.shape[1]):\n",
        "                plt.text(j, i, format(mat_confusion_matrix[i, j], '0.2f'), horizontalalignment=\"center\")\n",
        "    plt.imshow(mat_confusion_matrix,interpolation='nearest',cmap=plt.cm.cool)\n",
        "    plt.colorbar()\n",
        "    plt.savefig('confusion_matrix.png')"
      ]
    },
    {
      "cell_type": "code",
      "execution_count": null,
      "metadata": {
        "colab": {
          "base_uri": "https://localhost:8080/",
          "height": 614
        },
        "id": "3rMjgOQd3GzP",
        "outputId": "d1c9e219-9a70-49c5-a3e9-f8ffc5a33536"
      },
      "outputs": [
        {
          "output_type": "display_data",
          "data": {
            "text/plain": [
              "<Figure size 432x288 with 0 Axes>"
            ]
          },
          "metadata": {}
        },
        {
          "output_type": "display_data",
          "data": {
            "text/plain": [
              "<Figure size 1296x720 with 2 Axes>"
            ],
            "image/png": "[encoded data removed]"
          },
          "metadata": {
            "needs_background": "light"
          }
        }
      ],
      "source": [
        "classification_report_function(y_true_list,y_pred_list)"
      ]
    },
    {
      "cell_type": "code",
      "execution_count": null,
      "metadata": {
        "colab": {
          "base_uri": "https://localhost:8080/",
          "height": 605
        },
        "id": "dKSqhgzy3GzQ",
        "outputId": "d3b348af-4081-49f9-fba2-386f23c7d9f7"
      },
      "outputs": [
        {
          "output_type": "display_data",
          "data": {
            "text/plain": [
              "<Figure size 432x288 with 0 Axes>"
            ]
          },
          "metadata": {}
        },
        {
          "output_type": "display_data",
          "data": {
            "text/plain": [
              "<Figure size 864x720 with 2 Axes>"
            ],
            "image/png": "[encoded data removed]"
          },
          "metadata": {
            "needs_background": "light"
          }
        }
      ],
      "source": [
        "confusion_matrix_function(y_true_list,y_pred_list)"
      ]
    },
    {
      "cell_type": "code",
      "execution_count": null,
      "metadata": {
        "id": "smvB753g3GzQ"
      },
      "outputs": [],
      "source": [
        "def sentence_checking(untagged_sentence,Last_POS_tag_counts,Last_word_pos_tags,Last_Tag_transition_count,final_vec):\n",
        "    untagged_sentence = untagged_sentence.lower()\n",
        "    sentence_list = untagged_sentence.split()\n",
        "    sentence_list = ['^'] + sentence_list + ['$']\n",
        "    \n",
        "    print(Viterbi_Algorithm(sentence_list,Last_POS_tag_counts,Last_word_pos_tags,Last_Tag_transition_count,final_vec))"
      ]
    },
    {
      "cell_type": "code",
      "execution_count": null,
      "metadata": {
        "colab": {
          "base_uri": "https://localhost:8080/"
        },
        "id": "6JZCZOlc3GzQ",
        "outputId": "37b8ce12-4f2b-42c8-938e-a6b9463d5e28"
      },
      "outputs": [
        {
          "output_type": "stream",
          "name": "stdout",
          "text": [
            "['^', 'PRT', 'VERB', 'DET', 'ADJ', 'NOUN', 'NOUN', 'ADP', 'NOUN', '$']\n"
          ]
        }
      ],
      "source": [
        "for_checking = 'there was a huge price hike for cakes'\n",
        "sentence_checking(for_checking,Last_POS_tag_counts,Last_word_pos_tags,Last_Tag_transition_count,final_vec)"
      ]
    }
  ],
  "metadata": {
    "colab": {
      "collapsed_sections": [],
      "provenance": []
    },
    "kernelspec": {
      "display_name": "Python 3 (ipykernel)",
      "language": "python",
      "name": "python3"
    },
    "language_info": {
      "codemirror_mode": {
        "name": "ipython",
        "version": 3
      },
      "file_extension": ".py",
      "mimetype": "text/x-python",
      "name": "python",
      "nbconvert_exporter": "python",
      "pygments_lexer": "ipython3",
      "version": "3.10.2"
    },
    "vscode": {
      "interpreter": {
        "hash": "e45829e3f47064314537011affe4c6f1a1cb1249dba72f554e80753c578c646e"
      }
    }
  },
  "nbformat": 4,
  "nbformat_minor": 0
}