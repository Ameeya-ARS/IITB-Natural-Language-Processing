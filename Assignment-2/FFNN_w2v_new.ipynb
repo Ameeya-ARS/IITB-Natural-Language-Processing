{
  "cells": [
    {
      "cell_type": "code",
      "source": [
        "from google.colab import drive\n",
        "drive.mount('/content/gdrive')"
      ],
      "metadata": {
        "colab": {
          "base_uri": "https://localhost:8080/"
        },
        "id": "JKGgkQBqLszU",
        "outputId": "ed54980e-df11-4bab-ad01-e249aeee95ed"
      },
      "execution_count": null,
      "outputs": [
        {
          "output_type": "stream",
          "name": "stdout",
          "text": [
            "Mounted at /content/gdrive\n"
          ]
        }
      ]
    },
    {
      "cell_type": "code",
      "execution_count": null,
      "metadata": {
        "id": "wPvhErIgzU-5"
      },
      "outputs": [],
      "source": [
        "import warnings\n",
        "warnings.filterwarnings(\"ignore\")\n",
        "\n",
        "import numpy as np\n",
        "\n",
        "from matplotlib import pyplot as plt\n",
        "%matplotlib inline\n",
        "\n",
        "from nltk.corpus import brown\n",
        "\n",
        "from gensim.models import KeyedVectors\n",
        "import tensorflow as tf\n",
        "\n",
        "from sklearn.model_selection import train_test_split,KFold\n",
        "from sklearn.utils import shuffle\n",
        "from sklearn.metrics import accuracy_score\n",
        "from sklearn.metrics import confusion_matrix\n",
        "from sklearn.metrics import precision_score\n",
        "from sklearn.metrics import recall_score\n",
        "from sklearn.metrics import fbeta_score\n",
        "from sklearn.metrics import classification_report"
      ]
    },
    {
      "cell_type": "code",
      "execution_count": null,
      "metadata": {
        "colab": {
          "base_uri": "https://localhost:8080/"
        },
        "id": "-E1STFvKzU-6",
        "outputId": "2475f132-71c8-4957-9104-31cde9a1dfaa"
      },
      "outputs": [
        {
          "output_type": "stream",
          "name": "stderr",
          "text": [
            "[nltk_data] Downloading package brown to /root/nltk_data...\n",
            "[nltk_data]   Unzipping corpora/brown.zip.\n",
            "[nltk_data] Downloading package universal_tagset to /root/nltk_data...\n",
            "[nltk_data]   Unzipping taggers/universal_tagset.zip.\n"
          ]
        },
        {
          "output_type": "execute_result",
          "data": {
            "text/plain": [
              "True"
            ]
          },
          "metadata": {},
          "execution_count": 3
        }
      ],
      "source": [
        "import nltk\n",
        "nltk.download('brown')\n",
        "nltk.download('universal_tagset')"
      ]
    },
    {
      "cell_type": "code",
      "execution_count": null,
      "metadata": {
        "id": "J7YgOFn_zU-7"
      },
      "outputs": [],
      "source": [
        "tagged_sentences = brown.tagged_sents(tagset='universal')"
      ]
    },
    {
      "cell_type": "code",
      "execution_count": null,
      "metadata": {
        "colab": {
          "base_uri": "https://localhost:8080/"
        },
        "id": "YjXW-W0QzU-8",
        "outputId": "661f8e78-f0c2-46b1-c11b-f3678215d51a"
      },
      "outputs": [
        {
          "output_type": "execute_result",
          "data": {
            "text/plain": [
              "[('On', 'ADP'),\n",
              " ('other', 'ADJ'),\n",
              " ('matters', 'NOUN'),\n",
              " (',', '.'),\n",
              " ('the', 'DET'),\n",
              " ('jury', 'NOUN'),\n",
              " ('recommended', 'VERB'),\n",
              " ('that', 'ADP'),\n",
              " (':', '.'),\n",
              " ('(', '.'),\n",
              " ('1', 'NUM'),\n",
              " (')', '.')]"
            ]
          },
          "metadata": {},
          "execution_count": 5
        }
      ],
      "source": [
        "tagged_sentences[25]"
      ]
    },
    {
      "cell_type": "code",
      "execution_count": null,
      "metadata": {
        "id": "K3C6Rw-IzU-8"
      },
      "outputs": [],
      "source": [
        "X_store, Y_store =[],[]\n",
        "X, Y=[], []\n",
        "for sentence in tagged_sentences:\n",
        "    temp_x, temp_y =[],[]\n",
        "    for word,tag in sentence:\n",
        "        temp_x.append(word.lower())\n",
        "        temp_y.append(tag)\n",
        "    X.append(temp_x)\n",
        "    Y.append(temp_y)\n",
        "X_store=X\n",
        "Y_store=Y"
      ]
    },
    {
      "cell_type": "code",
      "execution_count": null,
      "metadata": {
        "id": "X-euFIB2zU-8"
      },
      "outputs": [],
      "source": [
        "num_words = len(set([word.lower() for sentence in X for word in sentence]))\n",
        "num_tags   = len(set([word.lower() for sentence in Y for word in sentence]))"
      ]
    },
    {
      "cell_type": "code",
      "execution_count": null,
      "metadata": {
        "colab": {
          "base_uri": "https://localhost:8080/"
        },
        "id": "zIKc8zjbzU-8",
        "outputId": "2e1d9205-81e6-43b9-9542-7645df736d4e"
      },
      "outputs": [
        {
          "output_type": "stream",
          "name": "stdout",
          "text": [
            "49815\n",
            "12\n"
          ]
        }
      ],
      "source": [
        "print(num_words)\n",
        "print(num_tags)"
      ]
    },
    {
      "cell_type": "code",
      "execution_count": null,
      "metadata": {
        "id": "J1LzUzKrzU-9"
      },
      "outputs": [],
      "source": [
        "word_tokenizer = tf.keras.preprocessing.text.Tokenizer()\n",
        "word_tokenizer.fit_on_texts(X)\n",
        "X_encoded = word_tokenizer.texts_to_sequences(X)"
      ]
    },
    {
      "cell_type": "code",
      "execution_count": null,
      "metadata": {
        "id": "UtjlHwIazU-9"
      },
      "outputs": [],
      "source": [
        "tag_tokenizer = tf.keras.preprocessing.text.Tokenizer()\n",
        "tag_tokenizer.fit_on_texts(Y)\n",
        "Y_encoded = tag_tokenizer.texts_to_sequences(Y)"
      ]
    },
    {
      "cell_type": "code",
      "execution_count": null,
      "metadata": {
        "colab": {
          "base_uri": "https://localhost:8080/"
        },
        "id": "1bVx52PLzU-9",
        "outputId": "9dd5ea82-fae6-4325-d368-ec5c5fc82ce4"
      },
      "outputs": [
        {
          "output_type": "stream",
          "name": "stdout",
          "text": [
            "['on', 'other', 'matters', ',', 'the', 'jury', 'recommended', 'that', ':', '(', '1', ')']\n",
            "[20, 73, 1720, 2, 1, 1634, 2402, 9, 67, 53, 179, 51]\n"
          ]
        }
      ],
      "source": [
        "print(X[25])\n",
        "print(X_encoded[25])"
      ]
    },
    {
      "cell_type": "code",
      "execution_count": null,
      "metadata": {
        "colab": {
          "base_uri": "https://localhost:8080/"
        },
        "id": "mJr5J3u_zU-9",
        "outputId": "d643049c-25e3-435a-ab88-e240a226068d"
      },
      "outputs": [
        {
          "output_type": "stream",
          "name": "stdout",
          "text": [
            "Length of longest sentence: 180\n"
          ]
        }
      ],
      "source": [
        "lengths = [len(seq) for seq in X_encoded]\n",
        "print(\"Length of longest sentence: {}\".format(max(lengths)))"
      ]
    },
    {
      "cell_type": "code",
      "execution_count": null,
      "metadata": {
        "id": "y9BZXkO2zU--"
      },
      "outputs": [],
      "source": [
        "X = X_encoded\n",
        "Y = Y_encoded"
      ]
    },
    {
      "cell_type": "code",
      "execution_count": null,
      "metadata": {
        "colab": {
          "base_uri": "https://localhost:8080/"
        },
        "id": "xDK6CxD-zU--",
        "outputId": "6bf73ccd-978d-46a7-84fa-83fd6153d1aa"
      },
      "outputs": [
        {
          "output_type": "stream",
          "name": "stdout",
          "text": [
            "57340 25\n",
            "57340 25\n"
          ]
        }
      ],
      "source": [
        "print(len(X),len(X[0]))\n",
        "print(len(Y),len(Y[0]))"
      ]
    },
    {
      "cell_type": "code",
      "execution_count": null,
      "metadata": {
        "id": "EMUya2zNzU--"
      },
      "outputs": [],
      "source": [
        "path = 'gdrive/MyDrive/CS626/Assignment_2/GoogleNews-vectors-negative300.bin'\n",
        "word2vec= KeyedVectors.load_word2vec_format(path, binary=True)"
      ]
    },
    {
      "cell_type": "code",
      "execution_count": null,
      "metadata": {
        "id": "ASwnt7WLzU--"
      },
      "outputs": [],
      "source": [
        "EMBEDDING_SIZE = 300\n",
        "VOCAB_SIZE = len(word_tokenizer.word_index)+1\n",
        "\n",
        "embedding_matrix = np.zeros((VOCAB_SIZE,EMBEDDING_SIZE))\n",
        "word2id = word_tokenizer.word_index\n",
        "\n",
        "for word,index in word2id.items():\n",
        "    try:\n",
        "        embedding_matrix[index,:] = word2vec[word]\n",
        "    except KeyError:\n",
        "        pass"
      ]
    },
    {
      "cell_type": "code",
      "execution_count": null,
      "metadata": {
        "id": "D_zzA8XpzU--",
        "colab": {
          "base_uri": "https://localhost:8080/"
        },
        "outputId": "236b791e-591a-4e37-be35-00c70a84e27f"
      },
      "outputs": [
        {
          "output_type": "stream",
          "name": "stdout",
          "text": [
            "(49816, 300)\n"
          ]
        }
      ],
      "source": [
        "print(embedding_matrix.shape)"
      ]
    },
    {
      "cell_type": "code",
      "execution_count": null,
      "metadata": {
        "id": "jOZhpwEczU--"
      },
      "outputs": [],
      "source": [
        "#embedding_matrix[word_tokenizer.word_index['boy']]"
      ]
    },
    {
      "cell_type": "code",
      "execution_count": null,
      "metadata": {
        "id": "Zhy7jnJ9zU-_"
      },
      "outputs": [],
      "source": [
        "# X_train, X_test, Y_train, Y_test = train_test_split(X, Y, test_size=0.2, random_state=3)"
      ]
    },
    {
      "cell_type": "code",
      "execution_count": null,
      "metadata": {
        "id": "0dj_fKyIzU-_"
      },
      "outputs": [],
      "source": [
        "NUM_CLASSES = 13"
      ]
    },
    {
      "cell_type": "code",
      "execution_count": null,
      "metadata": {
        "id": "5dQwkHj9zU-_"
      },
      "outputs": [],
      "source": [
        "MAX_SENTENCE_LENGTH = 180\n",
        "def processing(a,b):\n",
        "    a = tf.keras.preprocessing.sequence.pad_sequences(a, maxlen=MAX_SENTENCE_LENGTH, padding=\"pre\",truncating=\"post\")\n",
        "    b = tf.keras.preprocessing.sequence.pad_sequences(b, maxlen=MAX_SENTENCE_LENGTH, padding=\"pre\",truncating=\"post\")\n",
        "    b = tf.keras.utils.to_categorical(b)\n",
        "    return a,b"
      ]
    },
    {
      "cell_type": "code",
      "execution_count": null,
      "metadata": {
        "id": "SjO3_p9azU-_"
      },
      "outputs": [],
      "source": [
        "# X_train, Y_train = processing(X_train,Y_train)\n",
        "# X_test, Y_test = processing(X_test,Y_test)"
      ]
    },
    {
      "cell_type": "code",
      "execution_count": null,
      "metadata": {
        "id": "Nz199W8ZzU-_"
      },
      "outputs": [],
      "source": [
        "def get_model():\n",
        "    model = tf.keras.Sequential()\n",
        "    model.add(tf.keras.layers.Embedding(input_dim     = VOCAB_SIZE,\n",
        "                                 output_dim    = EMBEDDING_SIZE,\n",
        "                                 input_length  = MAX_SENTENCE_LENGTH,\n",
        "                                 weights       = [embedding_matrix],\n",
        "                                 trainable     = True\n",
        "    ))\n",
        "    model.add(tf.keras.layers.Dense(128, activation='relu'))\n",
        "    model.add(tf.keras.layers.Dense(64, activation='relu'))\n",
        "    model.add(tf.keras.layers.Dense(NUM_CLASSES, activation='softmax'))\n",
        "    model.compile(loss='categorical_crossentropy',optimizer='adam',metrics=['accuracy'])\n",
        "    return model"
      ]
    },
    {
      "cell_type": "code",
      "execution_count": null,
      "metadata": {
        "id": "xNHR3V73zU_A"
      },
      "outputs": [],
      "source": [
        "# model = get_model()\n",
        "# model.summary()"
      ]
    },
    {
      "cell_type": "code",
      "execution_count": null,
      "metadata": {
        "id": "xxZ0WFvVzU_A"
      },
      "outputs": [],
      "source": [
        "# model.fit(X_train,Y_train,batch_size=128,epochs=5)"
      ]
    },
    {
      "cell_type": "code",
      "execution_count": null,
      "metadata": {
        "id": "r8IamCsjzU_A"
      },
      "outputs": [],
      "source": [
        "# model.evaluate(X_test,Y_test,verbose=1)"
      ]
    },
    {
      "cell_type": "code",
      "execution_count": null,
      "metadata": {
        "id": "DYzL0PQyzU_A"
      },
      "outputs": [],
      "source": [
        "def predict(model,sentence):\n",
        "    org_length = len(sentence)\n",
        "    res = []\n",
        "    for word in sentence:\n",
        "        res.append(word.lower())\n",
        "    seq=[]\n",
        "    for word in res:\n",
        "      try:\n",
        "        seq.append(word2id[word])\n",
        "      except KeyError:\n",
        "        seq.append(0)\n",
        "    sentence = seq\n",
        "    sentence = ([0] * (MAX_SENTENCE_LENGTH - len(sentence))) + sentence\n",
        "    sentence = np.asarray(sentence).astype('int')\n",
        "    sentence = np.reshape(sentence,(1,MAX_SENTENCE_LENGTH))\n",
        "    pred = model.predict(sentence)[0]\n",
        "    output=[]\n",
        "    id2tag=dict()\n",
        "    for key,val in tag_tokenizer.word_index.items():\n",
        "        id2tag[val]=key\n",
        "    for i in range(MAX_SENTENCE_LENGTH):\n",
        "        temp = np.argsort(pred[i])\n",
        "        id = temp[-1]\n",
        "        if id!=0:\n",
        "            output.append(id2tag[id].upper())\n",
        "        else:\n",
        "            output.append('X')\n",
        "    print(output[-org_length:])"
      ]
    },
    {
      "cell_type": "code",
      "execution_count": null,
      "metadata": {
        "id": "DSC_fJuxzU_A",
        "colab": {
          "base_uri": "https://localhost:8080/"
        },
        "outputId": "5780ee0d-7f7c-4c5d-822d-78f02e1bc765"
      },
      "outputs": [
        {
          "output_type": "stream",
          "name": "stdout",
          "text": [
            "Epoch 1/5\n",
            "359/359 [==============================] - 9s 15ms/step - loss: 0.2447 - accuracy: 0.9832\n",
            "Epoch 2/5\n",
            "359/359 [==============================] - 5s 14ms/step - loss: 0.0141 - accuracy: 0.9944\n",
            "Epoch 3/5\n",
            "359/359 [==============================] - 5s 14ms/step - loss: 0.0129 - accuracy: 0.9946\n",
            "Epoch 4/5\n",
            "359/359 [==============================] - 5s 14ms/step - loss: 0.0126 - accuracy: 0.9947\n",
            "Epoch 5/5\n",
            "359/359 [==============================] - 5s 14ms/step - loss: 0.0124 - accuracy: 0.9947\n",
            "Accuracy for Fold 1 : 0.9480155018040892\n",
            "Epoch 1/5\n",
            "359/359 [==============================] - 6s 15ms/step - loss: 0.2118 - accuracy: 0.9836\n",
            "Epoch 2/5\n",
            "359/359 [==============================] - 5s 15ms/step - loss: 0.0141 - accuracy: 0.9944\n",
            "Epoch 3/5\n",
            "359/359 [==============================] - 5s 15ms/step - loss: 0.0129 - accuracy: 0.9946\n",
            "Epoch 4/5\n",
            "359/359 [==============================] - 5s 15ms/step - loss: 0.0126 - accuracy: 0.9947\n",
            "Epoch 5/5\n",
            "359/359 [==============================] - 5s 15ms/step - loss: 0.0124 - accuracy: 0.9947\n",
            "Accuracy for Fold 2 : 0.9481248306735645\n",
            "Epoch 1/5\n",
            "359/359 [==============================] - 6s 15ms/step - loss: 0.2470 - accuracy: 0.9827\n",
            "Epoch 2/5\n",
            "359/359 [==============================] - 5s 15ms/step - loss: 0.0142 - accuracy: 0.9943\n",
            "Epoch 3/5\n",
            "359/359 [==============================] - 5s 15ms/step - loss: 0.0129 - accuracy: 0.9946\n",
            "Epoch 4/5\n",
            "359/359 [==============================] - 5s 14ms/step - loss: 0.0126 - accuracy: 0.9947\n",
            "Epoch 5/5\n",
            "359/359 [==============================] - 5s 15ms/step - loss: 0.0124 - accuracy: 0.9947\n",
            "Accuracy for Fold 3 : 0.947238049126326\n",
            "Epoch 1/5\n",
            "359/359 [==============================] - 6s 15ms/step - loss: 0.2399 - accuracy: 0.9817\n",
            "Epoch 2/5\n",
            "359/359 [==============================] - 5s 14ms/step - loss: 0.0141 - accuracy: 0.9944\n",
            "Epoch 3/5\n",
            "359/359 [==============================] - 5s 15ms/step - loss: 0.0129 - accuracy: 0.9947\n",
            "Epoch 4/5\n",
            "359/359 [==============================] - 5s 14ms/step - loss: 0.0126 - accuracy: 0.9947\n",
            "Epoch 5/5\n",
            "359/359 [==============================] - 5s 14ms/step - loss: 0.0125 - accuracy: 0.9947\n",
            "Accuracy for Fold 4 : 0.9470935973335518\n",
            "Epoch 1/5\n",
            "359/359 [==============================] - 6s 15ms/step - loss: 0.2480 - accuracy: 0.9797\n",
            "Epoch 2/5\n",
            "359/359 [==============================] - 6s 16ms/step - loss: 0.0141 - accuracy: 0.9944\n",
            "Epoch 3/5\n",
            "359/359 [==============================] - 5s 14ms/step - loss: 0.0128 - accuracy: 0.9947\n",
            "Epoch 4/5\n",
            "359/359 [==============================] - 5s 15ms/step - loss: 0.0125 - accuracy: 0.9947\n",
            "Epoch 5/5\n",
            "359/359 [==============================] - 5s 15ms/step - loss: 0.0123 - accuracy: 0.9948\n",
            "Accuracy for Fold 5 : 0.9470696841573173\n"
          ]
        }
      ],
      "source": [
        "kfold = KFold(n_splits=5,shuffle=True,random_state=19)\n",
        "y_true_list,y_pred_list = [], []\n",
        "X = np.array(X)\n",
        "Y = np.array(Y)\n",
        "fold = 1\n",
        "final_model = 0\n",
        "accuracy_prev = 0\n",
        "for train_index, test_index in kfold.split(X,Y):\n",
        "    X_train, X_test, Y_train, Y_test = X[train_index], X[test_index], Y[train_index], Y[test_index]\n",
        "    X_train, Y_train = processing(X_train,Y_train)\n",
        "    X_test, Y_test = processing(X_test,Y_test)\n",
        "    model = get_model()\n",
        "    model.fit(X_train,Y_train,batch_size=128,epochs=5,verbose=1)\n",
        "    del1 = model.predict(X_test,verbose=0)\n",
        "    y_pred = np.zeros((del1.shape[0],del1.shape[1]))  \n",
        "    y_org = np.zeros((del1.shape[0],del1.shape[1]))\n",
        "    for i in range(del1.shape[0]):\n",
        "        for j in range(del1.shape[1]):\n",
        "          y_pred[i][j] = np.argmax(del1[i][j])\n",
        "          y_org[i][j] = np.argmax(Y_test[i][j])\n",
        "    y_pred = y_pred.flatten()\n",
        "    y_org = y_org.flatten()\n",
        "    y_pred1, y_org1 = [],[]\n",
        "    for i in range(y_org.shape[0]):\n",
        "        if(y_org[i]==0):\n",
        "            continue\n",
        "        else:\n",
        "            if(y_pred[i]==0):\n",
        "                y_pred1.append(2)\n",
        "                y_org1.append(y_org[i])\n",
        "            else:\n",
        "                y_pred1.append(y_pred[i])\n",
        "                y_org1.append(y_org[i])\n",
        "            \n",
        "    y_true_list.append(np.array(y_org1))\n",
        "    y_pred_list.append(np.array(y_pred1))\n",
        "    accuracy = accuracy_score(y_true_list[-1],y_pred_list[-1],normalize=True)\n",
        "    print(f'Accuracy for Fold {fold} : {accuracy}')\n",
        "    if(accuracy>accuracy_prev):\n",
        "        accuracy_prev = accuracy\n",
        "        final_model = model\n",
        "    fold+=1"
      ]
    },
    {
      "cell_type": "code",
      "execution_count": null,
      "metadata": {
        "id": "WknzJx4mzU_A"
      },
      "outputs": [],
      "source": [
        "def plot_confusion_matrix():\n",
        "    list_of_tags = ['NOUN', 'VERB', '.', 'ADP', 'DET', 'ADJ', 'ADV', 'PRON', 'CONJ', 'PRT', 'NUM', 'X']\n",
        "    count = 0\n",
        "    mat = 0\n",
        "    for y_true,y_pred in zip(y_true_list,y_pred_list):\n",
        "        cm = confusion_matrix(y_true,y_pred)\n",
        "        count += 1\n",
        "        if(count==1):\n",
        "            mat = cm\n",
        "        else:\n",
        "            mat += cm\n",
        "\n",
        "    mat = mat.astype('float')\n",
        "    mat = mat/count\n",
        "    mat_confusion_matrix = mat/np.sum(mat, axis=1, keepdims=True) #With Normalization\n",
        "    #mat_confusion_matrix = mat  #Without Normalization\n",
        "    plt.clf()\n",
        "    fig, ax = plt.subplots(figsize=(12,10))\n",
        "    tick_marks = np.arange(len(list_of_tags))\n",
        "    plt.xticks(tick_marks, list_of_tags)\n",
        "    plt.yticks(tick_marks, list_of_tags)\n",
        "    for i in range(mat_confusion_matrix.shape[0]):\n",
        "            for j in range(mat_confusion_matrix.shape[1]):\n",
        "                plt.text(j, i, format(mat_confusion_matrix[i, j], '0.2f'), horizontalalignment=\"center\")\n",
        "    plt.imshow(mat_confusion_matrix,interpolation='nearest',cmap=plt.cm.cool)\n",
        "    plt.colorbar()\n",
        "#     plt.savefig('confusion_matrix.png')"
      ]
    },
    {
      "cell_type": "code",
      "execution_count": null,
      "metadata": {
        "id": "pgKhWLVizU_B",
        "colab": {
          "base_uri": "https://localhost:8080/",
          "height": 609
        },
        "outputId": "92e2e989-a5ac-42e9-f17a-cf8b8aba8fc9"
      },
      "outputs": [
        {
          "output_type": "display_data",
          "data": {
            "text/plain": [
              "<Figure size 432x288 with 0 Axes>"
            ]
          },
          "metadata": {}
        },
        {
          "output_type": "display_data",
          "data": {
            "text/plain": [
              "<Figure size 864x720 with 2 Axes>"
            ],
            "image/png": "[encoded data removed]"
          },
          "metadata": {
            "needs_background": "light"
          }
        }
      ],
      "source": [
        "plot_confusion_matrix()"
      ]
    },
    {
      "cell_type": "code",
      "execution_count": null,
      "metadata": {
        "id": "hGuAVhw0zU_B"
      },
      "outputs": [],
      "source": [
        "def plot_classification_report():\n",
        "    classes = ['NOUN', 'VERB', '.', 'ADP', 'DET', 'ADJ', 'ADV', 'PRON', 'CONJ', 'PRT', 'NUM', 'X']\n",
        "    report_final = np.zeros((12,3))\n",
        "    support = 0\n",
        "    for i in range(5):\n",
        "        report = np.zeros((12,3))\n",
        "        cr = classification_report(y_true_list[i],y_pred_list[i],zero_division=0)\n",
        "        cr = cr.replace('macro avg', 'macro')\n",
        "        cr = cr.replace('micro avg', 'micro')\n",
        "        cr = cr.replace('weighted avg', 'weighted')\n",
        "        cr = cr.replace('\\n\\n', '\\n')\n",
        "        lines = cr.split('\\n')\n",
        "        mat , sup = [], []\n",
        "        for k in range(12):\n",
        "            line = lines[k+1]\n",
        "            a = line.strip().split()\n",
        "            report[k][0] = float(a[1])\n",
        "            report[k][1] = float(a[2])\n",
        "            report[k][2] = float(a[3])\n",
        "            sup.append(float(a[-1]))\n",
        "        sup = np.array(sup)\n",
        "        if(i==0):\n",
        "            report_final = report\n",
        "            support = sup\n",
        "        else:\n",
        "            report_final+=report\n",
        "            support+=sup\n",
        "    report_final = report_final/5.0\n",
        "    support = support/5.0\n",
        "    xticklabels = ['Precision', 'Recall', 'F1-Score']\n",
        "    yticklabels = ['{0}[{1}]'.format(classes[i], sup_i) for i, sup_i in enumerate(support)]\n",
        "    plt.clf()\n",
        "    fig, ax = plt.subplots(figsize=(18,10))\n",
        "    ax.xaxis.set_ticks_position('top')\n",
        "    ax.xaxis.set_tick_params(labelsize=15)\n",
        "    ax.yaxis.set_tick_params(labelsize=15)\n",
        "    plt.imshow(report_final, aspect='auto')\n",
        "    plt.colorbar()\n",
        "    plt.xticks(np.arange(3), xticklabels)\n",
        "    plt.yticks(np.arange(len(classes)), yticklabels)\n",
        "    for i in range(report.shape[0]):\n",
        "        for j in range(report.shape[1]):\n",
        "            plt.text(j, i, format(report[i, j], '.2f'), horizontalalignment=\"center\", verticalalignment=\"center\" ,fontsize=14)"
      ]
    },
    {
      "cell_type": "code",
      "execution_count": null,
      "metadata": {
        "id": "wf7OrzDnzU_B",
        "colab": {
          "base_uri": "https://localhost:8080/",
          "height": 614
        },
        "outputId": "306271b5-03d7-41e0-aa83-9f6cbe4ba57b"
      },
      "outputs": [
        {
          "output_type": "display_data",
          "data": {
            "text/plain": [
              "<Figure size 432x288 with 0 Axes>"
            ]
          },
          "metadata": {}
        },
        {
          "output_type": "display_data",
          "data": {
            "text/plain": [
              "<Figure size 1296x720 with 2 Axes>"
            ],
            "image/png": "[encoded data removed]"
          },
          "metadata": {
            "needs_background": "light"
          }
        }
      ],
      "source": [
        "plot_classification_report()"
      ]
    },
    {
      "cell_type": "code",
      "execution_count": null,
      "metadata": {
        "id": "auzkU_M9zU_B",
        "colab": {
          "base_uri": "https://localhost:8080/"
        },
        "outputId": "975281c6-5020-447d-98d8-f44307837ca8"
      },
      "outputs": [
        {
          "output_type": "stream",
          "name": "stdout",
          "text": [
            "Precision : 0.9500519894844339\n",
            "Recall : 0.9475083326189697\n",
            "F0.5 Score : 0.9490836387979945\n",
            "F1 Score : 0.9480437801130235\n",
            "F2 Score : 0.9475248394858813\n"
          ]
        }
      ],
      "source": [
        "f0_5_score=0\n",
        "f1score=0\n",
        "f2score=0\n",
        "precision = 0\n",
        "recall = 0\n",
        "for i in range(5):\n",
        "    f0_5_score+=fbeta_score(y_true_list[i],y_pred_list[i],beta=0.5,average='weighted',zero_division=0)\n",
        "    f1score+=fbeta_score(y_true_list[i],y_pred_list[i],beta=1,average='weighted',zero_division=0)\n",
        "    f2score+=fbeta_score(y_true_list[i],y_pred_list[i],beta=2,average='weighted',zero_division=0)\n",
        "    precision+=precision_score(y_true_list[i],y_pred_list[i],average='weighted',zero_division=0)\n",
        "    recall+=recall_score(y_true_list[i],y_pred_list[i],average='weighted',zero_division=0)\n",
        "f0_5_score = f0_5_score/5.0\n",
        "f1score = f1score/5.0\n",
        "f2score = f2score/5.0\n",
        "precision = precision/5.0\n",
        "recall = recall/5.0\n",
        "\n",
        "print(f'Precision : {precision}')\n",
        "print(f'Recall : {recall}')\n",
        "print(f'F0.5 Score : {f0_5_score}')\n",
        "print(f'F1 Score : {f1score}')\n",
        "print(f'F2 Score : {f2score}')"
      ]
    },
    {
      "cell_type": "code",
      "execution_count": null,
      "metadata": {
        "id": "MEkjydM4zU_B",
        "colab": {
          "base_uri": "https://localhost:8080/"
        },
        "outputId": "87f75d51-6151-41fb-f9fe-8ca423e537b4"
      },
      "outputs": [
        {
          "output_type": "stream",
          "name": "stdout",
          "text": [
            "['PRON', 'X', 'ADP', 'X', 'CONJ', 'X']\n"
          ]
        }
      ],
      "source": [
        "sen = ['i','will','go','to','play','cricket']\n",
        "sen1 = ['i','will','play','cricket','with','ram']\n",
        "sen2 = ['i','dunno','about','chai','and','samosa']\n",
        "predict(final_model,sen2)"
      ]
    }
  ],
  "metadata": {
    "kernelspec": {
      "display_name": "Python 3 (ipykernel)",
      "language": "python",
      "name": "python3"
    },
    "language_info": {
      "codemirror_mode": {
        "name": "ipython",
        "version": 3
      },
      "file_extension": ".py",
      "mimetype": "text/x-python",
      "name": "python",
      "nbconvert_exporter": "python",
      "pygments_lexer": "ipython3",
      "version": "3.10.2"
    },
    "vscode": {
      "interpreter": {
        "hash": "e45829e3f47064314537011affe4c6f1a1cb1249dba72f554e80753c578c646e"
      }
    },
    "colab": {
      "provenance": [],
      "collapsed_sections": []
    },
    "accelerator": "GPU"
  },
  "nbformat": 4,
  "nbformat_minor": 0
}